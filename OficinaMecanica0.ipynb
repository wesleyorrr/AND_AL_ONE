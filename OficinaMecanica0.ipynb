{
  "nbformat": 4,
  "nbformat_minor": 0,
  "metadata": {
    "colab": {
      "provenance": [],
      "toc_visible": true,
      "authorship_tag": "ABX9TyMVR3Eu5HhFixy8s9H7YkMI",
      "include_colab_link": true
    },
    "kernelspec": {
      "name": "python3",
      "display_name": "Python 3"
    },
    "language_info": {
      "name": "python"
    }
  },
  "cells": [
    {
      "cell_type": "markdown",
      "metadata": {
        "id": "view-in-github",
        "colab_type": "text"
      },
      "source": [
        "<a href=\"https://colab.research.google.com/github/wesleyorrr/AND_AL_ONE/blob/main/OficinaMecanica0.ipynb\" target=\"_parent\"><img src=\"https://colab.research.google.com/assets/colab-badge.svg\" alt=\"Open In Colab\"/></a>"
      ]
    },
    {
      "cell_type": "markdown",
      "source": [
        "# Estrutura do Projeto OFicina Mecânica\n",
        "oficina_analise/\n",
        "│\n",
        "├── dados/\n",
        "│   └── servicos.csv\n",
        "│\n",
        "├── analise.py\n",
        "├── limpeza_dados.py\n",
        "├── visualizacao.py\n",
        "├── README.md\n",
        "└── requirements.txt\n"
      ],
      "metadata": {
        "id": "E6NFeXEi0bsw"
      }
    },
    {
      "cell_type": "code",
      "execution_count": null,
      "metadata": {
        "id": "-fHmunKdekDI"
      },
      "outputs": [],
      "source": [
        "import pandas as pd\n",
        "\n",
        "def carregar_dados(caminho_arquivo):\n",
        "  df = pd.read_csv(caminho_arquivo)\n",
        "  df['data'] = pd.to_datetime(df['data'])\n",
        "  df['valor'] = df['valor'].astype(float)\n",
        "  df['tempo_horas'] = df['tempo_horas'].astype(float)\n",
        "  return df"
      ]
    },
    {
      "cell_type": "code",
      "source": [],
      "metadata": {
        "id": "vEnq3CP68-Ir"
      },
      "execution_count": null,
      "outputs": []
    },
    {
      "cell_type": "markdown",
      "source": [
        "\n",
        "\n",
        "---\n",
        "\n"
      ],
      "metadata": {
        "id": "5m6chAsH8giV"
      }
    },
    {
      "cell_type": "code",
      "source": [
        "\n",
        "\n",
        "def resumo_geral(df):\n",
        "  print(\"Resumo geral\")\n",
        "  print(df.describe())\n",
        "  print(\"\\nServiço mais comuns\")\n",
        "  print(df['servico'].value_counts())\n",
        "\n",
        "\n",
        "  def faturamento_total(df):\n",
        "    total = df['valor'].sum()\n",
        "    print(f\"\\nFaturamento total: R${total:.2f}\")\n",
        "\n",
        "\n",
        "    def temp_medio(df):\n",
        "      tempo = df['tempo_horas'].mean()\n",
        "      print(f\"\\nTempo médio de serviço: {tempo:.2f} horas\")\n"
      ],
      "metadata": {
        "id": "ntM6P94x7A6W"
      },
      "execution_count": null,
      "outputs": []
    },
    {
      "cell_type": "code",
      "source": [
        "import seaborn as sns\n",
        "import matplotlib.pyplot as plt\n",
        "\n",
        "def grafico_servicos(df):\n",
        "  plt.figure(figsize=(10, 6))\n",
        "  sns.countplot(data=df, x='servico', order=df['servico'].value_counts().index)\n",
        "  plt.xticks(rotation=45)\n",
        "  plt.title('Serviço mais realizados')\n",
        "  plt.tight_layout()\n",
        "  plt.show()\n",
        "\n",
        "\n",
        "  def grafic_faturamento_diario(df):\n",
        "    grafic_faturamento_diario = df.groupby(df['data'].dt.date)['valor'].sum().reset_index()\n",
        "    plt.figure(figsize=(10, 6))\n",
        "    sns.lineplot(data = faturamento_dia, x='data', y='valor', marker='o')\n",
        "    plt.title(\"Faturamento Diário\")\n",
        "    plt.xticks(rotation =45)\n",
        "    plt.tight_layout()\n",
        "    plt.show()\n",
        "\n",
        "\n"
      ],
      "metadata": {
        "id": "m5z4yWDK7F5b"
      },
      "execution_count": null,
      "outputs": []
    },
    {
      "cell_type": "code",
      "source": [
        "from limpeza_dados import carregar_dados\n",
        "from analise import resumo_geral, faturamento_total, temp_medio\n",
        "from visualizacao import grafico_servicos, grafic_faturamento_diario\n",
        "\n",
        "\n",
        "def main():\n",
        "  df = carregar_dados('dados/servicos.csv')\n",
        "  resumo_geral(df)\n",
        "  faturamento_total(df)\n",
        "  temp_medio(df)\n",
        "  grafico_servicos(df)\n",
        "  grafic_faturamento_diario(df)\n",
        "\n",
        "\n",
        "if __name__ == \"__main__\":\n",
        "  main()\n"
      ],
      "metadata": {
        "id": "MNFjx8e2_HMu"
      },
      "execution_count": null,
      "outputs": []
    },
    {
      "cell_type": "markdown",
      "source": [],
      "metadata": {
        "id": "sf03aXT_03oy"
      }
    },
    {
      "cell_type": "markdown",
      "source": [
        "# Nova seção"
      ],
      "metadata": {
        "id": "YlzkmzG-_3CT"
      }
    }
  ]
}