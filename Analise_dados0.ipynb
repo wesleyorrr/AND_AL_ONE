{
  "nbformat": 4,
  "nbformat_minor": 0,
  "metadata": {
    "colab": {
      "provenance": [],
      "collapsed_sections": [
        "KSEZmVqjPIem"
      ],
      "toc_visible": true,
      "authorship_tag": "ABX9TyMAaGzTd3rQU+LMPKh/0PM9",
      "include_colab_link": true
    },
    "kernelspec": {
      "name": "python3",
      "display_name": "Python 3"
    },
    "language_info": {
      "name": "python"
    }
  },
  "cells": [
    {
      "cell_type": "markdown",
      "metadata": {
        "id": "view-in-github",
        "colab_type": "text"
      },
      "source": [
        "<a href=\"https://colab.research.google.com/github/wesleyorrr/AND_AL_ONE/blob/main/Analise_dados0.ipynb\" target=\"_parent\"><img src=\"https://colab.research.google.com/assets/colab-badge.svg\" alt=\"Open In Colab\"/></a>"
      ]
    },
    {
      "cell_type": "markdown",
      "source": [
        "# Pandas\n"
      ],
      "metadata": {
        "id": "ZCHep6kP7V_B"
      }
    },
    {
      "cell_type": "code",
      "source": [
        "import pandas as pd\n",
        "from io import StringIO\n",
        "\n",
        "\n",
        "dados = StringIO(\"\"\"\n",
        "id_pedido,data_pedido,cliente,produto,categoria,preco_unitario,quantidade,cidade,estado\n",
        "1001,2024-01-10,Ana,Camiseta,Roupas,79.9,2,São Paulo,SP\n",
        "... \"\"\"\n",
        " )\n",
        "df = pd.read_csv(dados)\n"
      ],
      "metadata": {
        "id": "pAcUMzps7cUm"
      },
      "execution_count": null,
      "outputs": []
    },
    {
      "cell_type": "code",
      "source": [
        "df.head()"
      ],
      "metadata": {
        "colab": {
          "base_uri": "https://localhost:8080/",
          "height": 149
        },
        "id": "qWLBVggt9XN7",
        "outputId": "04f733c0-aaf9-493b-8397-2a719796f276"
      },
      "execution_count": null,
      "outputs": [
        {
          "output_type": "execute_result",
          "data": {
            "text/plain": [
              "  id_pedido data_pedido cliente   produto categoria  preco_unitario  \\\n",
              "0      1001  2024-01-10     Ana  Camiseta    Roupas            79.9   \n",
              "1      ...          NaN     NaN       NaN       NaN             NaN   \n",
              "\n",
              "   quantidade     cidade estado  \n",
              "0         2.0  São Paulo     SP  \n",
              "1         NaN        NaN    NaN  "
            ],
            "text/html": [
              "\n",
              "  <div id=\"df-4cdec463-0889-4dd6-aa37-ee4fcec8281f\" class=\"colab-df-container\">\n",
              "    <div>\n",
              "<style scoped>\n",
              "    .dataframe tbody tr th:only-of-type {\n",
              "        vertical-align: middle;\n",
              "    }\n",
              "\n",
              "    .dataframe tbody tr th {\n",
              "        vertical-align: top;\n",
              "    }\n",
              "\n",
              "    .dataframe thead th {\n",
              "        text-align: right;\n",
              "    }\n",
              "</style>\n",
              "<table border=\"1\" class=\"dataframe\">\n",
              "  <thead>\n",
              "    <tr style=\"text-align: right;\">\n",
              "      <th></th>\n",
              "      <th>id_pedido</th>\n",
              "      <th>data_pedido</th>\n",
              "      <th>cliente</th>\n",
              "      <th>produto</th>\n",
              "      <th>categoria</th>\n",
              "      <th>preco_unitario</th>\n",
              "      <th>quantidade</th>\n",
              "      <th>cidade</th>\n",
              "      <th>estado</th>\n",
              "    </tr>\n",
              "  </thead>\n",
              "  <tbody>\n",
              "    <tr>\n",
              "      <th>0</th>\n",
              "      <td>1001</td>\n",
              "      <td>2024-01-10</td>\n",
              "      <td>Ana</td>\n",
              "      <td>Camiseta</td>\n",
              "      <td>Roupas</td>\n",
              "      <td>79.9</td>\n",
              "      <td>2.0</td>\n",
              "      <td>São Paulo</td>\n",
              "      <td>SP</td>\n",
              "    </tr>\n",
              "    <tr>\n",
              "      <th>1</th>\n",
              "      <td>...</td>\n",
              "      <td>NaN</td>\n",
              "      <td>NaN</td>\n",
              "      <td>NaN</td>\n",
              "      <td>NaN</td>\n",
              "      <td>NaN</td>\n",
              "      <td>NaN</td>\n",
              "      <td>NaN</td>\n",
              "      <td>NaN</td>\n",
              "    </tr>\n",
              "  </tbody>\n",
              "</table>\n",
              "</div>\n",
              "    <div class=\"colab-df-buttons\">\n",
              "\n",
              "  <div class=\"colab-df-container\">\n",
              "    <button class=\"colab-df-convert\" onclick=\"convertToInteractive('df-4cdec463-0889-4dd6-aa37-ee4fcec8281f')\"\n",
              "            title=\"Convert this dataframe to an interactive table.\"\n",
              "            style=\"display:none;\">\n",
              "\n",
              "  <svg xmlns=\"http://www.w3.org/2000/svg\" height=\"24px\" viewBox=\"0 -960 960 960\">\n",
              "    <path d=\"M120-120v-720h720v720H120Zm60-500h600v-160H180v160Zm220 220h160v-160H400v160Zm0 220h160v-160H400v160ZM180-400h160v-160H180v160Zm440 0h160v-160H620v160ZM180-180h160v-160H180v160Zm440 0h160v-160H620v160Z\"/>\n",
              "  </svg>\n",
              "    </button>\n",
              "\n",
              "  <style>\n",
              "    .colab-df-container {\n",
              "      display:flex;\n",
              "      gap: 12px;\n",
              "    }\n",
              "\n",
              "    .colab-df-convert {\n",
              "      background-color: #E8F0FE;\n",
              "      border: none;\n",
              "      border-radius: 50%;\n",
              "      cursor: pointer;\n",
              "      display: none;\n",
              "      fill: #1967D2;\n",
              "      height: 32px;\n",
              "      padding: 0 0 0 0;\n",
              "      width: 32px;\n",
              "    }\n",
              "\n",
              "    .colab-df-convert:hover {\n",
              "      background-color: #E2EBFA;\n",
              "      box-shadow: 0px 1px 2px rgba(60, 64, 67, 0.3), 0px 1px 3px 1px rgba(60, 64, 67, 0.15);\n",
              "      fill: #174EA6;\n",
              "    }\n",
              "\n",
              "    .colab-df-buttons div {\n",
              "      margin-bottom: 4px;\n",
              "    }\n",
              "\n",
              "    [theme=dark] .colab-df-convert {\n",
              "      background-color: #3B4455;\n",
              "      fill: #D2E3FC;\n",
              "    }\n",
              "\n",
              "    [theme=dark] .colab-df-convert:hover {\n",
              "      background-color: #434B5C;\n",
              "      box-shadow: 0px 1px 3px 1px rgba(0, 0, 0, 0.15);\n",
              "      filter: drop-shadow(0px 1px 2px rgba(0, 0, 0, 0.3));\n",
              "      fill: #FFFFFF;\n",
              "    }\n",
              "  </style>\n",
              "\n",
              "    <script>\n",
              "      const buttonEl =\n",
              "        document.querySelector('#df-4cdec463-0889-4dd6-aa37-ee4fcec8281f button.colab-df-convert');\n",
              "      buttonEl.style.display =\n",
              "        google.colab.kernel.accessAllowed ? 'block' : 'none';\n",
              "\n",
              "      async function convertToInteractive(key) {\n",
              "        const element = document.querySelector('#df-4cdec463-0889-4dd6-aa37-ee4fcec8281f');\n",
              "        const dataTable =\n",
              "          await google.colab.kernel.invokeFunction('convertToInteractive',\n",
              "                                                    [key], {});\n",
              "        if (!dataTable) return;\n",
              "\n",
              "        const docLinkHtml = 'Like what you see? Visit the ' +\n",
              "          '<a target=\"_blank\" href=https://colab.research.google.com/notebooks/data_table.ipynb>data table notebook</a>'\n",
              "          + ' to learn more about interactive tables.';\n",
              "        element.innerHTML = '';\n",
              "        dataTable['output_type'] = 'display_data';\n",
              "        await google.colab.output.renderOutput(dataTable, element);\n",
              "        const docLink = document.createElement('div');\n",
              "        docLink.innerHTML = docLinkHtml;\n",
              "        element.appendChild(docLink);\n",
              "      }\n",
              "    </script>\n",
              "  </div>\n",
              "\n",
              "\n",
              "    <div id=\"df-05846546-b3c6-4062-affd-cb718e3c60a6\">\n",
              "      <button class=\"colab-df-quickchart\" onclick=\"quickchart('df-05846546-b3c6-4062-affd-cb718e3c60a6')\"\n",
              "                title=\"Suggest charts\"\n",
              "                style=\"display:none;\">\n",
              "\n",
              "<svg xmlns=\"http://www.w3.org/2000/svg\" height=\"24px\"viewBox=\"0 0 24 24\"\n",
              "     width=\"24px\">\n",
              "    <g>\n",
              "        <path d=\"M19 3H5c-1.1 0-2 .9-2 2v14c0 1.1.9 2 2 2h14c1.1 0 2-.9 2-2V5c0-1.1-.9-2-2-2zM9 17H7v-7h2v7zm4 0h-2V7h2v10zm4 0h-2v-4h2v4z\"/>\n",
              "    </g>\n",
              "</svg>\n",
              "      </button>\n",
              "\n",
              "<style>\n",
              "  .colab-df-quickchart {\n",
              "      --bg-color: #E8F0FE;\n",
              "      --fill-color: #1967D2;\n",
              "      --hover-bg-color: #E2EBFA;\n",
              "      --hover-fill-color: #174EA6;\n",
              "      --disabled-fill-color: #AAA;\n",
              "      --disabled-bg-color: #DDD;\n",
              "  }\n",
              "\n",
              "  [theme=dark] .colab-df-quickchart {\n",
              "      --bg-color: #3B4455;\n",
              "      --fill-color: #D2E3FC;\n",
              "      --hover-bg-color: #434B5C;\n",
              "      --hover-fill-color: #FFFFFF;\n",
              "      --disabled-bg-color: #3B4455;\n",
              "      --disabled-fill-color: #666;\n",
              "  }\n",
              "\n",
              "  .colab-df-quickchart {\n",
              "    background-color: var(--bg-color);\n",
              "    border: none;\n",
              "    border-radius: 50%;\n",
              "    cursor: pointer;\n",
              "    display: none;\n",
              "    fill: var(--fill-color);\n",
              "    height: 32px;\n",
              "    padding: 0;\n",
              "    width: 32px;\n",
              "  }\n",
              "\n",
              "  .colab-df-quickchart:hover {\n",
              "    background-color: var(--hover-bg-color);\n",
              "    box-shadow: 0 1px 2px rgba(60, 64, 67, 0.3), 0 1px 3px 1px rgba(60, 64, 67, 0.15);\n",
              "    fill: var(--button-hover-fill-color);\n",
              "  }\n",
              "\n",
              "  .colab-df-quickchart-complete:disabled,\n",
              "  .colab-df-quickchart-complete:disabled:hover {\n",
              "    background-color: var(--disabled-bg-color);\n",
              "    fill: var(--disabled-fill-color);\n",
              "    box-shadow: none;\n",
              "  }\n",
              "\n",
              "  .colab-df-spinner {\n",
              "    border: 2px solid var(--fill-color);\n",
              "    border-color: transparent;\n",
              "    border-bottom-color: var(--fill-color);\n",
              "    animation:\n",
              "      spin 1s steps(1) infinite;\n",
              "  }\n",
              "\n",
              "  @keyframes spin {\n",
              "    0% {\n",
              "      border-color: transparent;\n",
              "      border-bottom-color: var(--fill-color);\n",
              "      border-left-color: var(--fill-color);\n",
              "    }\n",
              "    20% {\n",
              "      border-color: transparent;\n",
              "      border-left-color: var(--fill-color);\n",
              "      border-top-color: var(--fill-color);\n",
              "    }\n",
              "    30% {\n",
              "      border-color: transparent;\n",
              "      border-left-color: var(--fill-color);\n",
              "      border-top-color: var(--fill-color);\n",
              "      border-right-color: var(--fill-color);\n",
              "    }\n",
              "    40% {\n",
              "      border-color: transparent;\n",
              "      border-right-color: var(--fill-color);\n",
              "      border-top-color: var(--fill-color);\n",
              "    }\n",
              "    60% {\n",
              "      border-color: transparent;\n",
              "      border-right-color: var(--fill-color);\n",
              "    }\n",
              "    80% {\n",
              "      border-color: transparent;\n",
              "      border-right-color: var(--fill-color);\n",
              "      border-bottom-color: var(--fill-color);\n",
              "    }\n",
              "    90% {\n",
              "      border-color: transparent;\n",
              "      border-bottom-color: var(--fill-color);\n",
              "    }\n",
              "  }\n",
              "</style>\n",
              "\n",
              "      <script>\n",
              "        async function quickchart(key) {\n",
              "          const quickchartButtonEl =\n",
              "            document.querySelector('#' + key + ' button');\n",
              "          quickchartButtonEl.disabled = true;  // To prevent multiple clicks.\n",
              "          quickchartButtonEl.classList.add('colab-df-spinner');\n",
              "          try {\n",
              "            const charts = await google.colab.kernel.invokeFunction(\n",
              "                'suggestCharts', [key], {});\n",
              "          } catch (error) {\n",
              "            console.error('Error during call to suggestCharts:', error);\n",
              "          }\n",
              "          quickchartButtonEl.classList.remove('colab-df-spinner');\n",
              "          quickchartButtonEl.classList.add('colab-df-quickchart-complete');\n",
              "        }\n",
              "        (() => {\n",
              "          let quickchartButtonEl =\n",
              "            document.querySelector('#df-05846546-b3c6-4062-affd-cb718e3c60a6 button');\n",
              "          quickchartButtonEl.style.display =\n",
              "            google.colab.kernel.accessAllowed ? 'block' : 'none';\n",
              "        })();\n",
              "      </script>\n",
              "    </div>\n",
              "\n",
              "    </div>\n",
              "  </div>\n"
            ],
            "application/vnd.google.colaboratory.intrinsic+json": {
              "type": "dataframe",
              "variable_name": "df",
              "summary": "{\n  \"name\": \"df\",\n  \"rows\": 2,\n  \"fields\": [\n    {\n      \"column\": \"id_pedido\",\n      \"properties\": {\n        \"dtype\": \"string\",\n        \"num_unique_values\": 2,\n        \"samples\": [\n          \"... \",\n          \"1001\"\n        ],\n        \"semantic_type\": \"\",\n        \"description\": \"\"\n      }\n    },\n    {\n      \"column\": \"data_pedido\",\n      \"properties\": {\n        \"dtype\": \"object\",\n        \"num_unique_values\": 1,\n        \"samples\": [\n          \"2024-01-10\"\n        ],\n        \"semantic_type\": \"\",\n        \"description\": \"\"\n      }\n    },\n    {\n      \"column\": \"cliente\",\n      \"properties\": {\n        \"dtype\": \"string\",\n        \"num_unique_values\": 1,\n        \"samples\": [\n          \"Ana\"\n        ],\n        \"semantic_type\": \"\",\n        \"description\": \"\"\n      }\n    },\n    {\n      \"column\": \"produto\",\n      \"properties\": {\n        \"dtype\": \"string\",\n        \"num_unique_values\": 1,\n        \"samples\": [\n          \"Camiseta\"\n        ],\n        \"semantic_type\": \"\",\n        \"description\": \"\"\n      }\n    },\n    {\n      \"column\": \"categoria\",\n      \"properties\": {\n        \"dtype\": \"string\",\n        \"num_unique_values\": 1,\n        \"samples\": [\n          \"Roupas\"\n        ],\n        \"semantic_type\": \"\",\n        \"description\": \"\"\n      }\n    },\n    {\n      \"column\": \"preco_unitario\",\n      \"properties\": {\n        \"dtype\": \"number\",\n        \"std\": null,\n        \"min\": 79.9,\n        \"max\": 79.9,\n        \"num_unique_values\": 1,\n        \"samples\": [\n          79.9\n        ],\n        \"semantic_type\": \"\",\n        \"description\": \"\"\n      }\n    },\n    {\n      \"column\": \"quantidade\",\n      \"properties\": {\n        \"dtype\": \"number\",\n        \"std\": null,\n        \"min\": 2.0,\n        \"max\": 2.0,\n        \"num_unique_values\": 1,\n        \"samples\": [\n          2.0\n        ],\n        \"semantic_type\": \"\",\n        \"description\": \"\"\n      }\n    },\n    {\n      \"column\": \"cidade\",\n      \"properties\": {\n        \"dtype\": \"string\",\n        \"num_unique_values\": 1,\n        \"samples\": [\n          \"S\\u00e3o Paulo\"\n        ],\n        \"semantic_type\": \"\",\n        \"description\": \"\"\n      }\n    },\n    {\n      \"column\": \"estado\",\n      \"properties\": {\n        \"dtype\": \"string\",\n        \"num_unique_values\": 1,\n        \"samples\": [\n          \"SP\"\n        ],\n        \"semantic_type\": \"\",\n        \"description\": \"\"\n      }\n    }\n  ]\n}"
            }
          },
          "metadata": {},
          "execution_count": 16
        }
      ]
    },
    {
      "cell_type": "code",
      "source": [
        "df.info()"
      ],
      "metadata": {
        "colab": {
          "base_uri": "https://localhost:8080/"
        },
        "id": "5lSLKixq9h1L",
        "outputId": "873c7884-92ae-41d0-c81c-01a528ced050"
      },
      "execution_count": null,
      "outputs": [
        {
          "output_type": "stream",
          "name": "stdout",
          "text": [
            "<class 'pandas.core.frame.DataFrame'>\n",
            "RangeIndex: 2 entries, 0 to 1\n",
            "Data columns (total 9 columns):\n",
            " #   Column          Non-Null Count  Dtype  \n",
            "---  ------          --------------  -----  \n",
            " 0   id_pedido       2 non-null      object \n",
            " 1   data_pedido     1 non-null      object \n",
            " 2   cliente         1 non-null      object \n",
            " 3   produto         1 non-null      object \n",
            " 4   categoria       1 non-null      object \n",
            " 5   preco_unitario  1 non-null      float64\n",
            " 6   quantidade      1 non-null      float64\n",
            " 7   cidade          1 non-null      object \n",
            " 8   estado          1 non-null      object \n",
            "dtypes: float64(2), object(7)\n",
            "memory usage: 276.0+ bytes\n"
          ]
        }
      ]
    },
    {
      "cell_type": "code",
      "source": [
        "df.describe()"
      ],
      "metadata": {
        "colab": {
          "base_uri": "https://localhost:8080/",
          "height": 300
        },
        "id": "4lJywRhK9m6F",
        "outputId": "ff04c8c1-e7ed-4be6-ec66-0c19157dd001"
      },
      "execution_count": null,
      "outputs": [
        {
          "output_type": "execute_result",
          "data": {
            "text/plain": [
              "       preco_unitario  quantidade\n",
              "count             1.0         1.0\n",
              "mean             79.9         2.0\n",
              "std               NaN         NaN\n",
              "min              79.9         2.0\n",
              "25%              79.9         2.0\n",
              "50%              79.9         2.0\n",
              "75%              79.9         2.0\n",
              "max              79.9         2.0"
            ],
            "text/html": [
              "\n",
              "  <div id=\"df-b544a0a8-7679-43b7-a504-33e81f455cd1\" class=\"colab-df-container\">\n",
              "    <div>\n",
              "<style scoped>\n",
              "    .dataframe tbody tr th:only-of-type {\n",
              "        vertical-align: middle;\n",
              "    }\n",
              "\n",
              "    .dataframe tbody tr th {\n",
              "        vertical-align: top;\n",
              "    }\n",
              "\n",
              "    .dataframe thead th {\n",
              "        text-align: right;\n",
              "    }\n",
              "</style>\n",
              "<table border=\"1\" class=\"dataframe\">\n",
              "  <thead>\n",
              "    <tr style=\"text-align: right;\">\n",
              "      <th></th>\n",
              "      <th>preco_unitario</th>\n",
              "      <th>quantidade</th>\n",
              "    </tr>\n",
              "  </thead>\n",
              "  <tbody>\n",
              "    <tr>\n",
              "      <th>count</th>\n",
              "      <td>1.0</td>\n",
              "      <td>1.0</td>\n",
              "    </tr>\n",
              "    <tr>\n",
              "      <th>mean</th>\n",
              "      <td>79.9</td>\n",
              "      <td>2.0</td>\n",
              "    </tr>\n",
              "    <tr>\n",
              "      <th>std</th>\n",
              "      <td>NaN</td>\n",
              "      <td>NaN</td>\n",
              "    </tr>\n",
              "    <tr>\n",
              "      <th>min</th>\n",
              "      <td>79.9</td>\n",
              "      <td>2.0</td>\n",
              "    </tr>\n",
              "    <tr>\n",
              "      <th>25%</th>\n",
              "      <td>79.9</td>\n",
              "      <td>2.0</td>\n",
              "    </tr>\n",
              "    <tr>\n",
              "      <th>50%</th>\n",
              "      <td>79.9</td>\n",
              "      <td>2.0</td>\n",
              "    </tr>\n",
              "    <tr>\n",
              "      <th>75%</th>\n",
              "      <td>79.9</td>\n",
              "      <td>2.0</td>\n",
              "    </tr>\n",
              "    <tr>\n",
              "      <th>max</th>\n",
              "      <td>79.9</td>\n",
              "      <td>2.0</td>\n",
              "    </tr>\n",
              "  </tbody>\n",
              "</table>\n",
              "</div>\n",
              "    <div class=\"colab-df-buttons\">\n",
              "\n",
              "  <div class=\"colab-df-container\">\n",
              "    <button class=\"colab-df-convert\" onclick=\"convertToInteractive('df-b544a0a8-7679-43b7-a504-33e81f455cd1')\"\n",
              "            title=\"Convert this dataframe to an interactive table.\"\n",
              "            style=\"display:none;\">\n",
              "\n",
              "  <svg xmlns=\"http://www.w3.org/2000/svg\" height=\"24px\" viewBox=\"0 -960 960 960\">\n",
              "    <path d=\"M120-120v-720h720v720H120Zm60-500h600v-160H180v160Zm220 220h160v-160H400v160Zm0 220h160v-160H400v160ZM180-400h160v-160H180v160Zm440 0h160v-160H620v160ZM180-180h160v-160H180v160Zm440 0h160v-160H620v160Z\"/>\n",
              "  </svg>\n",
              "    </button>\n",
              "\n",
              "  <style>\n",
              "    .colab-df-container {\n",
              "      display:flex;\n",
              "      gap: 12px;\n",
              "    }\n",
              "\n",
              "    .colab-df-convert {\n",
              "      background-color: #E8F0FE;\n",
              "      border: none;\n",
              "      border-radius: 50%;\n",
              "      cursor: pointer;\n",
              "      display: none;\n",
              "      fill: #1967D2;\n",
              "      height: 32px;\n",
              "      padding: 0 0 0 0;\n",
              "      width: 32px;\n",
              "    }\n",
              "\n",
              "    .colab-df-convert:hover {\n",
              "      background-color: #E2EBFA;\n",
              "      box-shadow: 0px 1px 2px rgba(60, 64, 67, 0.3), 0px 1px 3px 1px rgba(60, 64, 67, 0.15);\n",
              "      fill: #174EA6;\n",
              "    }\n",
              "\n",
              "    .colab-df-buttons div {\n",
              "      margin-bottom: 4px;\n",
              "    }\n",
              "\n",
              "    [theme=dark] .colab-df-convert {\n",
              "      background-color: #3B4455;\n",
              "      fill: #D2E3FC;\n",
              "    }\n",
              "\n",
              "    [theme=dark] .colab-df-convert:hover {\n",
              "      background-color: #434B5C;\n",
              "      box-shadow: 0px 1px 3px 1px rgba(0, 0, 0, 0.15);\n",
              "      filter: drop-shadow(0px 1px 2px rgba(0, 0, 0, 0.3));\n",
              "      fill: #FFFFFF;\n",
              "    }\n",
              "  </style>\n",
              "\n",
              "    <script>\n",
              "      const buttonEl =\n",
              "        document.querySelector('#df-b544a0a8-7679-43b7-a504-33e81f455cd1 button.colab-df-convert');\n",
              "      buttonEl.style.display =\n",
              "        google.colab.kernel.accessAllowed ? 'block' : 'none';\n",
              "\n",
              "      async function convertToInteractive(key) {\n",
              "        const element = document.querySelector('#df-b544a0a8-7679-43b7-a504-33e81f455cd1');\n",
              "        const dataTable =\n",
              "          await google.colab.kernel.invokeFunction('convertToInteractive',\n",
              "                                                    [key], {});\n",
              "        if (!dataTable) return;\n",
              "\n",
              "        const docLinkHtml = 'Like what you see? Visit the ' +\n",
              "          '<a target=\"_blank\" href=https://colab.research.google.com/notebooks/data_table.ipynb>data table notebook</a>'\n",
              "          + ' to learn more about interactive tables.';\n",
              "        element.innerHTML = '';\n",
              "        dataTable['output_type'] = 'display_data';\n",
              "        await google.colab.output.renderOutput(dataTable, element);\n",
              "        const docLink = document.createElement('div');\n",
              "        docLink.innerHTML = docLinkHtml;\n",
              "        element.appendChild(docLink);\n",
              "      }\n",
              "    </script>\n",
              "  </div>\n",
              "\n",
              "\n",
              "    <div id=\"df-bc0b921e-bfcb-4250-b6de-b359e2597e66\">\n",
              "      <button class=\"colab-df-quickchart\" onclick=\"quickchart('df-bc0b921e-bfcb-4250-b6de-b359e2597e66')\"\n",
              "                title=\"Suggest charts\"\n",
              "                style=\"display:none;\">\n",
              "\n",
              "<svg xmlns=\"http://www.w3.org/2000/svg\" height=\"24px\"viewBox=\"0 0 24 24\"\n",
              "     width=\"24px\">\n",
              "    <g>\n",
              "        <path d=\"M19 3H5c-1.1 0-2 .9-2 2v14c0 1.1.9 2 2 2h14c1.1 0 2-.9 2-2V5c0-1.1-.9-2-2-2zM9 17H7v-7h2v7zm4 0h-2V7h2v10zm4 0h-2v-4h2v4z\"/>\n",
              "    </g>\n",
              "</svg>\n",
              "      </button>\n",
              "\n",
              "<style>\n",
              "  .colab-df-quickchart {\n",
              "      --bg-color: #E8F0FE;\n",
              "      --fill-color: #1967D2;\n",
              "      --hover-bg-color: #E2EBFA;\n",
              "      --hover-fill-color: #174EA6;\n",
              "      --disabled-fill-color: #AAA;\n",
              "      --disabled-bg-color: #DDD;\n",
              "  }\n",
              "\n",
              "  [theme=dark] .colab-df-quickchart {\n",
              "      --bg-color: #3B4455;\n",
              "      --fill-color: #D2E3FC;\n",
              "      --hover-bg-color: #434B5C;\n",
              "      --hover-fill-color: #FFFFFF;\n",
              "      --disabled-bg-color: #3B4455;\n",
              "      --disabled-fill-color: #666;\n",
              "  }\n",
              "\n",
              "  .colab-df-quickchart {\n",
              "    background-color: var(--bg-color);\n",
              "    border: none;\n",
              "    border-radius: 50%;\n",
              "    cursor: pointer;\n",
              "    display: none;\n",
              "    fill: var(--fill-color);\n",
              "    height: 32px;\n",
              "    padding: 0;\n",
              "    width: 32px;\n",
              "  }\n",
              "\n",
              "  .colab-df-quickchart:hover {\n",
              "    background-color: var(--hover-bg-color);\n",
              "    box-shadow: 0 1px 2px rgba(60, 64, 67, 0.3), 0 1px 3px 1px rgba(60, 64, 67, 0.15);\n",
              "    fill: var(--button-hover-fill-color);\n",
              "  }\n",
              "\n",
              "  .colab-df-quickchart-complete:disabled,\n",
              "  .colab-df-quickchart-complete:disabled:hover {\n",
              "    background-color: var(--disabled-bg-color);\n",
              "    fill: var(--disabled-fill-color);\n",
              "    box-shadow: none;\n",
              "  }\n",
              "\n",
              "  .colab-df-spinner {\n",
              "    border: 2px solid var(--fill-color);\n",
              "    border-color: transparent;\n",
              "    border-bottom-color: var(--fill-color);\n",
              "    animation:\n",
              "      spin 1s steps(1) infinite;\n",
              "  }\n",
              "\n",
              "  @keyframes spin {\n",
              "    0% {\n",
              "      border-color: transparent;\n",
              "      border-bottom-color: var(--fill-color);\n",
              "      border-left-color: var(--fill-color);\n",
              "    }\n",
              "    20% {\n",
              "      border-color: transparent;\n",
              "      border-left-color: var(--fill-color);\n",
              "      border-top-color: var(--fill-color);\n",
              "    }\n",
              "    30% {\n",
              "      border-color: transparent;\n",
              "      border-left-color: var(--fill-color);\n",
              "      border-top-color: var(--fill-color);\n",
              "      border-right-color: var(--fill-color);\n",
              "    }\n",
              "    40% {\n",
              "      border-color: transparent;\n",
              "      border-right-color: var(--fill-color);\n",
              "      border-top-color: var(--fill-color);\n",
              "    }\n",
              "    60% {\n",
              "      border-color: transparent;\n",
              "      border-right-color: var(--fill-color);\n",
              "    }\n",
              "    80% {\n",
              "      border-color: transparent;\n",
              "      border-right-color: var(--fill-color);\n",
              "      border-bottom-color: var(--fill-color);\n",
              "    }\n",
              "    90% {\n",
              "      border-color: transparent;\n",
              "      border-bottom-color: var(--fill-color);\n",
              "    }\n",
              "  }\n",
              "</style>\n",
              "\n",
              "      <script>\n",
              "        async function quickchart(key) {\n",
              "          const quickchartButtonEl =\n",
              "            document.querySelector('#' + key + ' button');\n",
              "          quickchartButtonEl.disabled = true;  // To prevent multiple clicks.\n",
              "          quickchartButtonEl.classList.add('colab-df-spinner');\n",
              "          try {\n",
              "            const charts = await google.colab.kernel.invokeFunction(\n",
              "                'suggestCharts', [key], {});\n",
              "          } catch (error) {\n",
              "            console.error('Error during call to suggestCharts:', error);\n",
              "          }\n",
              "          quickchartButtonEl.classList.remove('colab-df-spinner');\n",
              "          quickchartButtonEl.classList.add('colab-df-quickchart-complete');\n",
              "        }\n",
              "        (() => {\n",
              "          let quickchartButtonEl =\n",
              "            document.querySelector('#df-bc0b921e-bfcb-4250-b6de-b359e2597e66 button');\n",
              "          quickchartButtonEl.style.display =\n",
              "            google.colab.kernel.accessAllowed ? 'block' : 'none';\n",
              "        })();\n",
              "      </script>\n",
              "    </div>\n",
              "\n",
              "    </div>\n",
              "  </div>\n"
            ],
            "application/vnd.google.colaboratory.intrinsic+json": {
              "type": "dataframe",
              "summary": "{\n  \"name\": \"df\",\n  \"rows\": 8,\n  \"fields\": [\n    {\n      \"column\": \"preco_unitario\",\n      \"properties\": {\n        \"dtype\": \"number\",\n        \"std\": 29.821396920428025,\n        \"min\": 1.0,\n        \"max\": 79.9,\n        \"num_unique_values\": 2,\n        \"samples\": [\n          79.9,\n          1.0\n        ],\n        \"semantic_type\": \"\",\n        \"description\": \"\"\n      }\n    },\n    {\n      \"column\": \"quantidade\",\n      \"properties\": {\n        \"dtype\": \"number\",\n        \"std\": 0.3779644730092273,\n        \"min\": 1.0,\n        \"max\": 2.0,\n        \"num_unique_values\": 2,\n        \"samples\": [\n          2.0,\n          1.0\n        ],\n        \"semantic_type\": \"\",\n        \"description\": \"\"\n      }\n    }\n  ]\n}"
            }
          },
          "metadata": {},
          "execution_count": 18
        }
      ]
    },
    {
      "cell_type": "code",
      "source": [
        "df['data_pedido'] = pd.to_datetime(df['data_pedido'])\n"
      ],
      "metadata": {
        "id": "VaqL1AZC9x8w"
      },
      "execution_count": null,
      "outputs": []
    },
    {
      "cell_type": "code",
      "source": [
        "df['ano'] = df['data_pedido'].dt.year\n",
        "df['mes'] = df['data_pedido'].dt.month\n",
        "df['dia'] = df['data_pedido'].dt.day"
      ],
      "metadata": {
        "id": "t2kLRRgK-cQ3"
      },
      "execution_count": null,
      "outputs": []
    },
    {
      "cell_type": "code",
      "source": [
        "df.groupby('produto')['quantidade'].sum().sort_values(ascending=False)"
      ],
      "metadata": {
        "colab": {
          "base_uri": "https://localhost:8080/",
          "height": 147
        },
        "id": "oNw03pff-0m6",
        "outputId": "2fb8279e-2854-4b76-a912-cc2cef422c9d"
      },
      "execution_count": null,
      "outputs": [
        {
          "output_type": "execute_result",
          "data": {
            "text/plain": [
              "produto\n",
              "Camiseta    2.0\n",
              "Name: quantidade, dtype: float64"
            ],
            "text/html": [
              "<div>\n",
              "<style scoped>\n",
              "    .dataframe tbody tr th:only-of-type {\n",
              "        vertical-align: middle;\n",
              "    }\n",
              "\n",
              "    .dataframe tbody tr th {\n",
              "        vertical-align: top;\n",
              "    }\n",
              "\n",
              "    .dataframe thead th {\n",
              "        text-align: right;\n",
              "    }\n",
              "</style>\n",
              "<table border=\"1\" class=\"dataframe\">\n",
              "  <thead>\n",
              "    <tr style=\"text-align: right;\">\n",
              "      <th></th>\n",
              "      <th>quantidade</th>\n",
              "    </tr>\n",
              "    <tr>\n",
              "      <th>produto</th>\n",
              "      <th></th>\n",
              "    </tr>\n",
              "  </thead>\n",
              "  <tbody>\n",
              "    <tr>\n",
              "      <th>Camiseta</th>\n",
              "      <td>2.0</td>\n",
              "    </tr>\n",
              "  </tbody>\n",
              "</table>\n",
              "</div><br><label><b>dtype:</b> float64</label>"
            ]
          },
          "metadata": {},
          "execution_count": 29
        }
      ]
    },
    {
      "cell_type": "code",
      "source": [],
      "metadata": {
        "id": "-VuAUmFH_PG1"
      },
      "execution_count": null,
      "outputs": []
    },
    {
      "cell_type": "markdown",
      "source": [
        "# Pip intall"
      ],
      "metadata": {
        "id": "DUr2YntguMnS"
      }
    },
    {
      "cell_type": "code",
      "source": [
        "!pip install pandas"
      ],
      "metadata": {
        "id": "dIRPLWg-uT7d",
        "colab": {
          "base_uri": "https://localhost:8080/"
        },
        "outputId": "d73988dc-4a10-4138-e199-bb4fb21b1758"
      },
      "execution_count": null,
      "outputs": [
        {
          "output_type": "stream",
          "name": "stdout",
          "text": [
            "Requirement already satisfied: pandas in /usr/local/lib/python3.11/dist-packages (2.2.2)\n",
            "Requirement already satisfied: numpy>=1.23.2 in /usr/local/lib/python3.11/dist-packages (from pandas) (2.0.2)\n",
            "Requirement already satisfied: python-dateutil>=2.8.2 in /usr/local/lib/python3.11/dist-packages (from pandas) (2.9.0.post0)\n",
            "Requirement already satisfied: pytz>=2020.1 in /usr/local/lib/python3.11/dist-packages (from pandas) (2025.2)\n",
            "Requirement already satisfied: tzdata>=2022.7 in /usr/local/lib/python3.11/dist-packages (from pandas) (2025.2)\n",
            "Requirement already satisfied: six>=1.5 in /usr/local/lib/python3.11/dist-packages (from python-dateutil>=2.8.2->pandas) (1.17.0)\n"
          ]
        }
      ]
    },
    {
      "cell_type": "markdown",
      "source": [
        "# Random"
      ],
      "metadata": {
        "id": "AvUlP_p_QYPa"
      }
    },
    {
      "cell_type": "code",
      "source": [
        "import random\n"
      ],
      "metadata": {
        "id": "NRC-nfM-rtbg"
      },
      "execution_count": null,
      "outputs": []
    },
    {
      "cell_type": "code",
      "source": [
        " Lista = [1, 2, 3, 4, 5, 6, 7, 8]"
      ],
      "metadata": {
        "id": "Ehlotxhrr8In"
      },
      "execution_count": null,
      "outputs": []
    },
    {
      "cell_type": "code",
      "source": [
        "random.choice(Lista)"
      ],
      "metadata": {
        "colab": {
          "base_uri": "https://localhost:8080/"
        },
        "id": "6-B3WA3HsNMv",
        "outputId": "b2535757-1108-42e1-a6e6-236a5045cf0c"
      },
      "execution_count": null,
      "outputs": [
        {
          "output_type": "execute_result",
          "data": {
            "text/plain": [
              "2"
            ]
          },
          "metadata": {},
          "execution_count": 6
        }
      ]
    },
    {
      "cell_type": "code",
      "source": [
        "Palavra = 'Oliveira'\n",
        "random.choice(Palavra)"
      ],
      "metadata": {
        "colab": {
          "base_uri": "https://localhost:8080/",
          "height": 35
        },
        "id": "7o9Re4VJsgAl",
        "outputId": "75667ceb-d51f-467a-fe1a-b884bb39708d"
      },
      "execution_count": null,
      "outputs": [
        {
          "output_type": "execute_result",
          "data": {
            "text/plain": [
              "'r'"
            ],
            "application/vnd.google.colaboratory.intrinsic+json": {
              "type": "string"
            }
          },
          "metadata": {},
          "execution_count": 4
        }
      ]
    },
    {
      "cell_type": "markdown",
      "source": [
        "# Comando Len"
      ],
      "metadata": {
        "id": "xy5ADhiAqenr"
      }
    },
    {
      "cell_type": "code",
      "source": [
        "Lista = [1, 2, 3, 4, 5, 6, 7, 8, 9, 10]\n",
        "Dicionario = {'Nome':'Manuel', 'Idade': 29}\n",
        "Tupla = (1, 2, 3)\n",
        "String = 'Olá Mundo'"
      ],
      "metadata": {
        "id": "40XOXsn6Qom9"
      },
      "execution_count": null,
      "outputs": []
    },
    {
      "cell_type": "code",
      "source": [],
      "metadata": {
        "id": "xwi8b7BWrCgc"
      },
      "execution_count": null,
      "outputs": []
    },
    {
      "cell_type": "markdown",
      "source": [
        "# Fatiamento de String"
      ],
      "metadata": {
        "id": "p47svoGfSXwB"
      }
    },
    {
      "cell_type": "code",
      "source": [
        "Minha_String = 'Apreender Python é Show'\n",
        "CPF = '12345678912'\n",
        "print (type(Minha_String))\n",
        "print(len(Minha_String))"
      ],
      "metadata": {
        "colab": {
          "base_uri": "https://localhost:8080/"
        },
        "id": "nh15mDBjSpQD",
        "outputId": "3d236687-a6af-4b73-c52d-31e6be5a94b1"
      },
      "execution_count": null,
      "outputs": [
        {
          "output_type": "stream",
          "name": "stdout",
          "text": [
            "<class 'str'>\n",
            "23\n"
          ]
        }
      ]
    },
    {
      "cell_type": "code",
      "source": [
        "len(String)"
      ],
      "metadata": {
        "colab": {
          "base_uri": "https://localhost:8080/"
        },
        "id": "iaKa-BDuR1hm",
        "outputId": "7e791e61-c1a4-4091-f68b-9a7e40c042f2"
      },
      "execution_count": null,
      "outputs": [
        {
          "output_type": "execute_result",
          "data": {
            "text/plain": [
              "9"
            ]
          },
          "metadata": {},
          "execution_count": 4
        }
      ]
    },
    {
      "cell_type": "code",
      "source": [
        "Minha_String[0]"
      ],
      "metadata": {
        "colab": {
          "base_uri": "https://localhost:8080/",
          "height": 35
        },
        "id": "Nk7NQGTOTF6u",
        "outputId": "7ee3e04c-1119-4c27-be71-bbe95aff2cdb"
      },
      "execution_count": null,
      "outputs": [
        {
          "output_type": "execute_result",
          "data": {
            "text/plain": [
              "'A'"
            ],
            "application/vnd.google.colaboratory.intrinsic+json": {
              "type": "string"
            }
          },
          "metadata": {},
          "execution_count": 6
        }
      ]
    },
    {
      "cell_type": "code",
      "source": [
        "Minha_String[1]"
      ],
      "metadata": {
        "colab": {
          "base_uri": "https://localhost:8080/",
          "height": 35
        },
        "id": "ysJXKcrYTVf1",
        "outputId": "f20be75a-c4a9-4b0e-ec32-da7ec10ce765"
      },
      "execution_count": null,
      "outputs": [
        {
          "output_type": "execute_result",
          "data": {
            "text/plain": [
              "'p'"
            ],
            "application/vnd.google.colaboratory.intrinsic+json": {
              "type": "string"
            }
          },
          "metadata": {},
          "execution_count": 7
        }
      ]
    },
    {
      "cell_type": "code",
      "source": [
        "Minha_String[-1]"
      ],
      "metadata": {
        "colab": {
          "base_uri": "https://localhost:8080/",
          "height": 35
        },
        "id": "dNooIlCyTXZk",
        "outputId": "57f2227e-a8c0-4e1f-ac61-d1d07ac77ff4"
      },
      "execution_count": null,
      "outputs": [
        {
          "output_type": "execute_result",
          "data": {
            "text/plain": [
              "'w'"
            ],
            "application/vnd.google.colaboratory.intrinsic+json": {
              "type": "string"
            }
          },
          "metadata": {},
          "execution_count": 8
        }
      ]
    },
    {
      "cell_type": "code",
      "source": [
        "Minha_String[-10:]"
      ],
      "metadata": {
        "colab": {
          "base_uri": "https://localhost:8080/",
          "height": 35
        },
        "id": "CUs88L73Taj7",
        "outputId": "99f3b9af-8a0b-47ac-c897-e20dc37299ff"
      },
      "execution_count": null,
      "outputs": [
        {
          "output_type": "execute_result",
          "data": {
            "text/plain": [
              "'hon é Show'"
            ],
            "application/vnd.google.colaboratory.intrinsic+json": {
              "type": "string"
            }
          },
          "metadata": {},
          "execution_count": 10
        }
      ]
    },
    {
      "cell_type": "code",
      "source": [],
      "metadata": {
        "id": "bhCmW1Y2US9D"
      },
      "execution_count": null,
      "outputs": []
    },
    {
      "cell_type": "markdown",
      "source": [],
      "metadata": {
        "id": "KGJmuRmhGc2F"
      }
    },
    {
      "cell_type": "markdown",
      "source": [
        "# Variaveis"
      ],
      "metadata": {
        "id": "KSEZmVqjPIem"
      }
    },
    {
      "cell_type": "code",
      "source": [
        "# Variaveis Texto\n",
        "Name = 'Odair'\n",
        "print(Name)"
      ],
      "metadata": {
        "colab": {
          "base_uri": "https://localhost:8080/"
        },
        "id": "mC6f4aAsSW7p",
        "outputId": "a2e9f56e-727c-4d01-fc6e-38277180061a"
      },
      "execution_count": null,
      "outputs": [
        {
          "output_type": "stream",
          "name": "stdout",
          "text": [
            "Odair\n"
          ]
        }
      ]
    },
    {
      "cell_type": "code",
      "source": [
        "# Variaveis Texto\n",
        "Sobrenome = 'Oliveira Mendes'\n",
        "print(Name,Sobrenome)"
      ],
      "metadata": {
        "colab": {
          "base_uri": "https://localhost:8080/"
        },
        "id": "6zyANv9xUvXA",
        "outputId": "5160acc2-df42-43c3-bdc4-08f777eaf30e"
      },
      "execution_count": null,
      "outputs": [
        {
          "output_type": "stream",
          "name": "stdout",
          "text": [
            "Odair Oliveira Mendes\n"
          ]
        }
      ]
    },
    {
      "cell_type": "code",
      "source": [
        "# Variaveis Numericas\n",
        "Idade = 33\n",
        "anos = \"anos\"\n",
        "print(Name,Sobrenome, Idade, anos)"
      ],
      "metadata": {
        "colab": {
          "base_uri": "https://localhost:8080/"
        },
        "id": "AUQTQiH8U81U",
        "outputId": "d17b73c3-c490-4e9a-b472-1e37f535a597"
      },
      "execution_count": null,
      "outputs": [
        {
          "output_type": "stream",
          "name": "stdout",
          "text": [
            "Odair Oliveira Mendes 33 anos\n"
          ]
        }
      ]
    },
    {
      "cell_type": "markdown",
      "source": [
        "# Operadores matematicos\n",
        "\n",
        "```\n",
        "1. Soma\n",
        "2. Subtração\n",
        "3. Multiplicação\n",
        "4. Divisão\n",
        "5. Exponeciação\n",
        "6. Resto da Divisão\n",
        "7. Divisão de Chão\n",
        "\n",
        "```\n",
        "\n"
      ],
      "metadata": {
        "id": "NwgCg4jmFpeC"
      }
    },
    {
      "cell_type": "code",
      "source": [
        "# Soma\n",
        "1 + 3 + 4"
      ],
      "metadata": {
        "id": "o2v_AyTIFrS5",
        "colab": {
          "base_uri": "https://localhost:8080/"
        },
        "outputId": "742cc71e-aca5-4e70-f6ce-f0f648e54f73"
      },
      "execution_count": null,
      "outputs": [
        {
          "output_type": "execute_result",
          "data": {
            "text/plain": [
              "8"
            ]
          },
          "metadata": {},
          "execution_count": 1
        }
      ]
    },
    {
      "cell_type": "code",
      "source": [
        "# Subtração\n",
        "4 - 4"
      ],
      "metadata": {
        "colab": {
          "base_uri": "https://localhost:8080/"
        },
        "id": "5tYyVE5S54qk",
        "outputId": "a1ed2dfa-276d-487a-c0b9-ad8c0631bfae"
      },
      "execution_count": null,
      "outputs": [
        {
          "output_type": "execute_result",
          "data": {
            "text/plain": [
              "0"
            ]
          },
          "metadata": {},
          "execution_count": 2
        }
      ]
    },
    {
      "cell_type": "code",
      "source": [
        "# Mutiplicação\n",
        "5 * 8\n"
      ],
      "metadata": {
        "colab": {
          "base_uri": "https://localhost:8080/"
        },
        "id": "ExY13rne6B2p",
        "outputId": "981ae76a-e3fe-4f08-f4bc-e971a942987e"
      },
      "execution_count": null,
      "outputs": [
        {
          "output_type": "execute_result",
          "data": {
            "text/plain": [
              "40"
            ]
          },
          "metadata": {},
          "execution_count": 3
        }
      ]
    },
    {
      "cell_type": "code",
      "source": [
        "# Divisão\n",
        "\n",
        "90 / 9"
      ],
      "metadata": {
        "colab": {
          "base_uri": "https://localhost:8080/"
        },
        "id": "f9NicvHB6yPZ",
        "outputId": "daf7ccc8-5bb6-4037-a121-ddfabc898f41"
      },
      "execution_count": null,
      "outputs": [
        {
          "output_type": "execute_result",
          "data": {
            "text/plain": [
              "10.0"
            ]
          },
          "metadata": {},
          "execution_count": 4
        }
      ]
    },
    {
      "cell_type": "code",
      "source": [
        "# Exponeciação\n",
        "2 ** 3 #(2x2x2)"
      ],
      "metadata": {
        "colab": {
          "base_uri": "https://localhost:8080/"
        },
        "id": "AEAYa1RT69Tv",
        "outputId": "7dbb7dba-6fab-4110-d3ec-03cff7934522"
      },
      "execution_count": null,
      "outputs": [
        {
          "output_type": "execute_result",
          "data": {
            "text/plain": [
              "8"
            ]
          },
          "metadata": {},
          "execution_count": 5
        }
      ]
    },
    {
      "cell_type": "code",
      "source": [
        "# Resto da divisão\n",
        "3 % 4"
      ],
      "metadata": {
        "colab": {
          "base_uri": "https://localhost:8080/"
        },
        "id": "sY_YM_lH7OSJ",
        "outputId": "0c0c4453-15c1-40d3-b311-646001b1c726"
      },
      "execution_count": null,
      "outputs": [
        {
          "output_type": "execute_result",
          "data": {
            "text/plain": [
              "3"
            ]
          },
          "metadata": {},
          "execution_count": 6
        }
      ]
    },
    {
      "cell_type": "code",
      "source": [
        "# divisão de chão\n",
        "\n",
        "3 // 4"
      ],
      "metadata": {
        "colab": {
          "base_uri": "https://localhost:8080/"
        },
        "id": "LSMuo3wx8s5v",
        "outputId": "b8456c12-de14-4ca8-dc4f-d24edf80b3ed"
      },
      "execution_count": null,
      "outputs": [
        {
          "output_type": "execute_result",
          "data": {
            "text/plain": [
              "0"
            ]
          },
          "metadata": {},
          "execution_count": 7
        }
      ]
    },
    {
      "cell_type": "code",
      "source": [
        "# priorização\n",
        "(2 + 2)* 5"
      ],
      "metadata": {
        "colab": {
          "base_uri": "https://localhost:8080/"
        },
        "id": "URhz-PqZ80gx",
        "outputId": "d0ddf715-e626-43c0-fde8-979059ccf70a"
      },
      "execution_count": null,
      "outputs": [
        {
          "output_type": "execute_result",
          "data": {
            "text/plain": [
              "20"
            ]
          },
          "metadata": {},
          "execution_count": 8
        }
      ]
    },
    {
      "cell_type": "markdown",
      "source": [
        "#  Tipo de informaçao\n",
        "\n",
        "1. Text Type: str\n",
        "2. Numeric Type: int, float, complex\n",
        "3. Sequence Types: list, tuple, range\n",
        "4. Mapping Type: dict\n",
        "5. Set Types: sey,\n",
        "6. Boolean Type: bool\n",
        "7.Binary Types: bytes bytearry, memoryview\n",
        "\n"
      ],
      "metadata": {
        "id": "g7HOp0LGGlK3"
      }
    },
    {
      "cell_type": "code",
      "source": [
        "from os import name\n",
        "from typing import List\n",
        "from datatime import datatime\n",
        "Data = datatime.today().date()\n",
        "\n",
        "String = srt('Ola mundo')\n",
        "Int = int(10)\n",
        "Flutuante = float(100.5)\n",
        "Complex = complex( 1j )\n",
        "Lista = list(\"Maça\",\"Banana\")\n",
        "Tupla = tuple(('A','B'))\n",
        "Range = range(6)\n",
        "Dicionario = dict( name'Quis', age=29)\n",
        "Set =  set (('A', 'B', 'C'))\n",
        "Fronzet = FrozenSet(('A', 'B', 'C'))\n",
        "Boolean = bool(5)\n",
        "Bytes = bytes(5)\n",
        "Bytearray = bytearray(5)\n",
        "Memoryview = memoryview(bytes(5))\n",
        "\n"
      ],
      "metadata": {
        "id": "IcXV9a4UH5A9"
      },
      "execution_count": null,
      "outputs": []
    },
    {
      "cell_type": "markdown",
      "source": [
        "# Comando Round\n"
      ],
      "metadata": {
        "id": "SZVowC14QXNe"
      }
    },
    {
      "cell_type": "code",
      "source": [
        "# Comando Round\n",
        "valor_exemplo = 12.54747451"
      ],
      "metadata": {
        "id": "B9-EF4DKQg_L"
      },
      "execution_count": null,
      "outputs": []
    },
    {
      "cell_type": "code",
      "source": [
        "print(valor_exemplo)"
      ],
      "metadata": {
        "colab": {
          "base_uri": "https://localhost:8080/"
        },
        "id": "hvOr77orQzKQ",
        "outputId": "9a1fdecf-ad36-4b3d-d8ed-fe3c1c6abded"
      },
      "execution_count": null,
      "outputs": [
        {
          "output_type": "stream",
          "name": "stdout",
          "text": [
            "12.54747451\n"
          ]
        }
      ]
    },
    {
      "cell_type": "code",
      "source": [
        "round(valor_exemplo, 4)"
      ],
      "metadata": {
        "colab": {
          "base_uri": "https://localhost:8080/"
        },
        "id": "UyabN3u5RCAF",
        "outputId": "530a4d98-8ad4-4fd1-c47d-c4fdfa8b7cc0"
      },
      "execution_count": null,
      "outputs": [
        {
          "output_type": "execute_result",
          "data": {
            "text/plain": [
              "12.5475"
            ]
          },
          "metadata": {},
          "execution_count": 14
        }
      ]
    },
    {
      "cell_type": "markdown",
      "source": [
        "Exercicio 01"
      ],
      "metadata": {
        "id": "3vQHsogQqW23"
      }
    },
    {
      "cell_type": "code",
      "source": [
        "import pandas as pd\n",
        "\n",
        "# 🔽 Simulando leitura do CSV\n",
        "data = {\n",
        "    'cliente': ['A', 'B', 'C', 'A', 'D', 'E', 'C', 'B', 'D'],\n",
        "    'data': ['2024-01-05', '2024-01-10', '2024-02-12', '2024-02-28', '2024-03-02', '2024-03-15', '2024-04-01', '2024-04-17', '2024-05-03'],\n",
        "    'produto': ['Arroz', 'Feijão', 'Óleo', 'Arroz', 'Feijão', 'Arroz', 'Óleo', 'Arroz', 'Feijão'],\n",
        "    'valor': [200, 150, 300, 400, 250, 500, 700, 650, 100]\n",
        "}\n",
        "df = pd.DataFrame(data)\n",
        "df['data'] = pd.to_datetime(df['data'])  # transforma a coluna data\n",
        "\n",
        "# 📊 Média das vendas\n",
        "print(\"Média das vendas:\", df['valor'].mean())\n",
        "\n",
        "# 📅 Total vendido por mês\n",
        "df['mes'] = df['data'].dt.to_period('M')\n",
        "print(\"\\nTotal vendido por mês:\")\n",
        "print(df.groupby('mes')['valor'].sum())\n",
        "\n",
        "# 🧑 Cliente que mais comprou\n",
        "print(\"\\nCliente que mais comprou:\")\n",
        "print(df.groupby('cliente')['valor'].sum().sort_values(ascending=False).head(1))\n"
      ],
      "metadata": {
        "colab": {
          "base_uri": "https://localhost:8080/"
        },
        "id": "Wp5tpSsIqWHY",
        "outputId": "88866d0f-84c1-4501-bdf6-0c688ef6a325"
      },
      "execution_count": null,
      "outputs": [
        {
          "output_type": "stream",
          "name": "stdout",
          "text": [
            "Média das vendas: 361.1111111111111\n",
            "\n",
            "Total vendido por mês:\n",
            "mes\n",
            "2024-01     350\n",
            "2024-02     700\n",
            "2024-03     750\n",
            "2024-04    1350\n",
            "2024-05     100\n",
            "Freq: M, Name: valor, dtype: int64\n",
            "\n",
            "Cliente que mais comprou:\n",
            "cliente\n",
            "C    1000\n",
            "Name: valor, dtype: int64\n"
          ]
        }
      ]
    },
    {
      "cell_type": "markdown",
      "source": [
        "**negrito** Analise de Dados Python"
      ],
      "metadata": {
        "id": "HwyQ9gcumtdN"
      }
    },
    {
      "cell_type": "markdown",
      "source": [],
      "metadata": {
        "id": "lD9K7IUioU3T"
      }
    },
    {
      "cell_type": "code",
      "source": [
        "aluno,nota\n",
        "Ana,7.5\n",
        "Beto,8.0\n",
        "Carlos,6.5\n",
        "Daniela,9.0\n",
        "Eduardo,5.5\n",
        "Fernanda,7.0\n",
        "Gabriel,8.5"
      ],
      "metadata": {
        "id": "OQBXv0jzm1NC"
      },
      "execution_count": null,
      "outputs": []
    },
    {
      "cell_type": "code",
      "source": [
        "import pandas as pd\n",
        "import numpy as np\n",
        "from scipy import stats\n",
        "\n",
        "# 📊 Novos dados com 3 alunos a mais\n",
        "data = {\n",
        "    'aluno': ['Ana', 'Beto', 'Carlos', 'Daniela', 'Eduardo', 'Fernanda', 'Gabriel',\n",
        "              'Lulu Santos', 'Larrisa', 'Lolo Santos'],\n",
        "    'nota': [7.5, 8.0, 6.5, 9.0, 5.5, 7.0, 8.5, 4.0, 3.0, 2.0]\n",
        "}\n",
        "\n",
        "df = pd.DataFrame(data)\n",
        "\n",
        "# Estatísticas atualizadas\n",
        "media = df['nota'].mean()\n",
        "mediana = df['nota'].median()\n",
        "moda = stats.mode(df['nota'], keepdims=True)[0][0]\n",
        "desvio = df['nota'].std()\n",
        "variancia = df['nota'].var()\n",
        "\n",
        "# Resultados\n",
        "print(f\"Média: {media:.2f}\")\n",
        "print(f\"Mediana: {mediana}\")\n",
        "print(f\"Moda: {moda}\")\n",
        "print(f\"Desvio padrão: {desvio:.2f}\")\n",
        "print(f\"Variância: {variancia:.2f}\")\n"
      ],
      "metadata": {
        "colab": {
          "base_uri": "https://localhost:8080/"
        },
        "id": "Xi-i7b_IpewR",
        "outputId": "3f82048a-148f-436d-d5ca-2af500e92c42"
      },
      "execution_count": null,
      "outputs": [
        {
          "output_type": "stream",
          "name": "stdout",
          "text": [
            "Média: 6.10\n",
            "Mediana: 6.75\n",
            "Moda: 2.0\n",
            "Desvio padrão: 2.40\n",
            "Variância: 5.77\n"
          ]
        }
      ]
    },
    {
      "cell_type": "markdown",
      "source": [
        "# Graficos\n"
      ],
      "metadata": {
        "id": "v6jic8yt9Jiy"
      }
    },
    {
      "cell_type": "code",
      "source": [
        "import pandas as pd\n",
        "import matplotlib.pyplot as plt\n",
        "import seaborn as sns\n",
        "\n",
        "\n",
        "# simulação de dados\n",
        "\n",
        "\n",
        "dados = {\n",
        "     'produto': ['Arroz', 'Feijão', 'Óleo', 'Arroz', 'Feijão', 'Arroz', 'Óleo', 'Arroz', 'Feijão'],\n",
        "    'mes': ['Jan', 'Jan', 'Fev', 'Fev', 'Mar', 'Mar', 'Abr', 'Abr', 'Mai'],\n",
        "    'valor': [200, 150, 300, 400, 250, 500, 700, 650, 100]\n",
        "}\n",
        "df = pd.DataFrame(dados)\n",
        "\n",
        "\n",
        "# 🎯 Gráfico 1: Barras – Total vendido por produto\n",
        "plt.figure(figsize=(6,4))\n",
        "df.groupby('produto')['valor'].sum().plot(kind='bar', color='skyblue')\n",
        "plt.title('Total vendido por produto')\n",
        "plt.ylabel('Valor R$')\n",
        "plt.xlabel('Produto')\n",
        "plt.tight_layout()\n",
        "plt.show()\n",
        "\n",
        "# 🎯 Gráfico 2: Linha – Total vendido por mês\n",
        "plt.figure(figsize=(6,4))\n",
        "df.groupby('mes')['valor'].sum().plot(kind='line', marker='o', color='green')\n",
        "plt.title('Evolução de vendas por mês')\n",
        "plt.ylabel('Valor R$')\n",
        "plt.xlabel('Mês')\n",
        "plt.grid(True)\n",
        "plt.tight_layout()\n",
        "plt.show()\n",
        "\n",
        "\n"
      ],
      "metadata": {
        "colab": {
          "base_uri": "https://localhost:8080/",
          "height": 797
        },
        "id": "IboGsocB9O3j",
        "outputId": "fd7b9c95-86cb-4a57-ed34-8c74f3972605"
      },
      "execution_count": null,
      "outputs": [
        {
          "output_type": "display_data",
          "data": {
            "text/plain": [
              "<Figure size 600x400 with 1 Axes>"
            ],
            "image/png": "[encoded data removed]"
          },
          "metadata": {}
        },
        {
          "output_type": "display_data",
          "data": {
            "text/plain": [
              "<Figure size 600x400 with 1 Axes>"
            ],
            "image/png": "[encoded data removed]"
          },
          "metadata": {}
        }
      ]
    },
    {
      "cell_type": "markdown",
      "source": [
        "# SQLite consultas\n"
      ],
      "metadata": {
        "id": "lToktqtjIeIX"
      }
    },
    {
      "cell_type": "code",
      "source": [
        "import sqlite3\n",
        "import pandas as pd\n",
        "\n",
        "# Conexão com banco em memória\n",
        "conn = sqlite3.connect(\":memory:\")\n",
        "\n",
        "# Criar tabela clientes\n",
        "conn.execute('''\n",
        "CREATE TABLE clientes (\n",
        "    id INTEGER PRIMARY KEY,\n",
        "    nome TEXT,\n",
        "    cidade TEXT\n",
        ")\n",
        "''')\n",
        "\n",
        "# Criar tabela vendas\n",
        "conn.execute('''\n",
        "CREATE TABLE vendas (\n",
        "    id INTEGER PRIMARY KEY,\n",
        "    cliente_id INTEGER,\n",
        "    produto TEXT,\n",
        "    valor REAL,\n",
        "    FOREIGN KEY (cliente_id) REFERENCES clientes(id)\n",
        ")\n",
        "''')\n",
        "\n",
        "# Inserir dados nas tabelas\n",
        "conn.executemany(\"INSERT INTO clientes (id, nome, cidade) VALUES (?, ?, ?)\", [\n",
        "    (1, 'Ana', 'São Paulo'),\n",
        "    (2, 'Beto', 'Campinas'),\n",
        "    (3, 'Carlos', 'São Paulo'),\n",
        "    (4, 'Daniela', 'Santos')\n",
        "])\n",
        "\n",
        "conn.executemany(\"INSERT INTO vendas (id, cliente_id, produto, valor) VALUES (?, ?, ?, ?)\", [\n",
        "    (1, 1, 'Arroz', 200),\n",
        "    (2, 2, 'Feijão', 150),\n",
        "    (3, 1, 'Óleo', 300),\n",
        "    (4, 3, 'Arroz', 400),\n",
        "    (5, 4, 'Feijão', 250),\n",
        "    (6, 2, 'Óleo', 500),\n",
        "])\n",
        "\n",
        "# 🔍 1. Clientes que compraram mais de R$ 300\n",
        "print(\"\\nClientes com compras acima de R$ 300:\")\n",
        "query1 = \"\"\"\n",
        "SELECT c.nome, v.produto, v.valor\n",
        "FROM vendas v\n",
        "JOIN clientes c ON v.cliente_id = c.id\n",
        "WHERE v.valor > 300\n",
        "\"\"\"\n",
        "print(pd.read_sql(query1, conn))\n",
        "\n",
        "# 📊 2. Total de vendas por cidade\n",
        "print(\"\\nTotal de vendas por cidade:\")\n",
        "query2 = \"\"\"\n",
        "SELECT c.cidade, SUM(v.valor) as total_vendido\n",
        "FROM vendas v\n",
        "JOIN clientes c ON v.cliente_id = c.id\n",
        "GROUP BY c.cidade\n",
        "ORDER BY total_vendido DESC\n",
        "\"\"\"\n",
        "print(pd.read_sql(query2, conn))\n"
      ],
      "metadata": {
        "colab": {
          "base_uri": "https://localhost:8080/"
        },
        "id": "NyBcrRQUIjeL",
        "outputId": "e0cec405-e2f2-43c7-88ed-04e68dbc62ab"
      },
      "execution_count": null,
      "outputs": [
        {
          "output_type": "stream",
          "name": "stdout",
          "text": [
            "\n",
            "Clientes com compras acima de R$ 300:\n",
            "     nome produto  valor\n",
            "0  Carlos   Arroz  400.0\n",
            "1    Beto    Óleo  500.0\n",
            "\n",
            "Total de vendas por cidade:\n",
            "      cidade  total_vendido\n",
            "0  São Paulo          900.0\n",
            "1   Campinas          650.0\n",
            "2     Santos          250.0\n"
          ]
        }
      ]
    },
    {
      "cell_type": "markdown",
      "source": [
        "# SQLite consulta"
      ],
      "metadata": {
        "id": "l2Tk1FbNDwMu"
      }
    },
    {
      "cell_type": "code",
      "source": [
        "import sqlite3\n",
        "import pandas as pd\n",
        "\n",
        "# Conexão\n",
        "conn = sqlite3.connect(\":memory:\")\n",
        "\n",
        "# Criando tabelas\n",
        "conn.execute(\"\"\"\n",
        "CREATE TABLE clientes (\n",
        "    id INTEGER PRIMARY KEY,\n",
        "    nome TEXT,\n",
        "    cidade TEXT\n",
        ")\n",
        "\"\"\")\n",
        "\n",
        "conn.execute(\"\"\"\n",
        "CREATE TABLE vendas (\n",
        "    id INTEGER PRIMARY KEY,\n",
        "    cliente_id INTEGER,\n",
        "    valor REAL,\n",
        "    FOREIGN KEY(cliente_id) REFERENCES clientes(id)\n",
        ")\n",
        "\"\"\")\n",
        "\n",
        "# Inserindo dados\n",
        "conn.executemany(\"INSERT INTO clientes VALUES (?, ?, ?)\", [\n",
        "    (1, 'Ana', 'São Paulo'),\n",
        "    (2, 'Beto', 'Campinas'),\n",
        "    (3, 'Carlos', 'São Paulo'),\n",
        "    (4, 'Daniela', 'Campinas'),\n",
        "    (5, 'Eduarda', 'Campinas')\n",
        "])\n",
        "\n",
        "conn.executemany(\"INSERT INTO vendas VALUES (?, ?, ?)\", [\n",
        "    (1, 1, 500),\n",
        "    (2, 2, 600),\n",
        "    (3, 3, 700),\n",
        "    (4, 4, 300),\n",
        "    (5, 5, 800),\n",
        "    (6, 1, 400),\n",
        "    (7, 2, 200),\n",
        "    (8, 3, 300)\n",
        "])\n",
        "\n",
        "# 🧠 Ativando suporte a Window Functions no SQLite (Colab já suporta)\n",
        "\n",
        "# ✅ Consulta com CTE e ROW_NUMBER\n",
        "query = \"\"\"\n",
        "WITH vendas_totais AS (\n",
        "    SELECT c.nome, c.cidade, SUM(v.valor) as total_vendido\n",
        "    FROM vendas v\n",
        "    JOIN clientes c ON v.cliente_id = c.id\n",
        "    GROUP BY c.id\n",
        "),\n",
        "rankings AS (\n",
        "    SELECT *,\n",
        "           ROW_NUMBER() OVER (PARTITION BY cidade ORDER BY total_vendido DESC) as posicao\n",
        "    FROM vendas_totais\n",
        ")\n",
        "SELECT * FROM rankings WHERE posicao = 1\n",
        "\"\"\"\n",
        "\n",
        "df = pd.read_sql(query, conn)\n",
        "print(df)\n"
      ],
      "metadata": {
        "id": "wxoSW_rVEApj",
        "outputId": "12031bd9-4d32-46a9-dd3e-e5467b29789d",
        "colab": {
          "base_uri": "https://localhost:8080/"
        }
      },
      "execution_count": null,
      "outputs": [
        {
          "output_type": "stream",
          "name": "stdout",
          "text": [
            "     nome     cidade  total_vendido  posicao\n",
            "0    Beto   Campinas          800.0        1\n",
            "1  Carlos  São Paulo         1000.0        1\n"
          ]
        }
      ]
    },
    {
      "cell_type": "markdown",
      "source": [
        "# Power bi\n"
      ],
      "metadata": {
        "id": "IYCRXwinHgMe"
      }
    },
    {
      "cell_type": "code",
      "source": [
        "# dados do excel\n",
        "\n",
        "data,cliente,produto,categoria,cidade,valor\n",
        "2024-01-10,Ana,Arroz,Alimentos,São Paulo,200\n",
        "2024-01-12,Beto,Feijão,Alimentos,Campinas,300\n",
        "2024-01-15,Carlos,Óleo,Alimentos,São Paulo,150\n",
        "2024-02-01,Daniela,Shampoo,Higiene,Campinas,250\n",
        "2024-02-10,Eduarda,Arroz,Alimentos,Campinas,350\n"
      ],
      "metadata": {
        "id": "KeVGutXlIOba"
      },
      "execution_count": null,
      "outputs": []
    },
    {
      "cell_type": "markdown",
      "source": [
        "# Machine Learning"
      ],
      "metadata": {
        "id": "hcF0BjY7IyB6"
      }
    },
    {
      "cell_type": "code",
      "source": [
        "import pandas as pd\n",
        "from sklearn.linear_model import LinearRegression\n",
        "from sklearn.model_selection import train_test_split\n",
        "from sklearn.metrics import mean_squared_error\n",
        "\n",
        "# Criando um dataset simples\n",
        "data = {\n",
        "    'quantidade': [1, 2, 3, 4, 5, 6, 7, 8, 9, 10],\n",
        "    'frete':      [10, 15, 20, 25, 30, 35, 40, 45, 50, 55],\n",
        "    'desconto':   [0, 5, 0, 10, 0, 5, 0, 10, 5, 0],\n",
        "    'valor_venda':[100, 160, 150, 200, 250, 270, 300, 320, 310, 340]\n",
        "}\n",
        "\n",
        "df = pd.DataFrame(data)\n",
        "\n",
        "# Features (X) e target (y)\n",
        "X = df[['quantidade', 'frete', 'desconto']]\n",
        "y = df['valor_venda']\n",
        "\n",
        "# Dividindo treino e teste\n",
        "X_train, X_test, y_train, y_test = train_test_split(X, y, test_size=0.2, random_state=42)\n",
        "\n",
        "# Treinando o modelo\n",
        "modelo = LinearRegression()\n",
        "modelo.fit(X_train, y_train)\n",
        "\n",
        "# Fazendo previsões\n",
        "y_pred = modelo.predict(X_test)\n",
        "\n",
        "# Avaliando o modelo\n",
        "mse = mean_squared_error(y_test, y_pred)\n",
        "print(\"MSE:\", mse)\n",
        "print(\"Coeficientes:\", modelo.coef_)\n",
        "print(\"Intercepto:\", modelo.intercept_)\n"
      ],
      "metadata": {
        "id": "3JgnzXWVIxcd",
        "colab": {
          "base_uri": "https://localhost:8080/"
        },
        "outputId": "13422f98-d56e-4880-a86d-d3d7cd0d2465"
      },
      "execution_count": null,
      "outputs": [
        {
          "output_type": "stream",
          "name": "stdout",
          "text": [
            "MSE: 676.389503330275\n",
            "Coeficientes: [1.09491779 5.47458894 1.10911809]\n",
            "Intercepto: 53.83781763826596\n"
          ]
        }
      ]
    },
    {
      "cell_type": "markdown",
      "source": [
        "# Classificação"
      ],
      "metadata": {
        "id": "Zf57gBVdbG5q"
      }
    },
    {
      "cell_type": "code",
      "source": [
        "import pandas as pd\n",
        "from sklearn.model_selection import train_test_split\n",
        "from sklearn.linear_model import LogisticRegression\n",
        "from sklearn.metrics import accuracy_score, confusion_matrix\n",
        "\n",
        "# Criando dados fictícios\n",
        "dados = {\n",
        "    'idade': [25, 35, 45, 22, 33, 41, 52, 23, 31, 48],\n",
        "    'renda': [2000, 4000, 6000, 1500, 3500, 5800, 7000, 1700, 3300, 6500],\n",
        "    'tempo_cliente': [2, 4, 6, 1, 3, 5, 7, 1, 2, 6],\n",
        "    'comprou': [0, 1, 1, 0, 1, 1, 1, 0, 0, 1]\n",
        "}\n",
        "\n",
        "df = pd.DataFrame(dados)\n",
        "\n",
        "# Separando variáveis independentes (X) e alvo (y)\n",
        "X = df[['idade', 'renda', 'tempo_cliente']]\n",
        "y = df['comprou']\n",
        "\n",
        "# Dividindo dados em treino e teste\n",
        "X_train, X_test, y_train, y_test = train_test_split(X, y, test_size=0.2, random_state=42)\n",
        "\n",
        "# Criando o modelo\n",
        "modelo = LogisticRegression()\n",
        "modelo.fit(X_train, y_train)\n",
        "\n",
        "# Fazendo previsões\n",
        "y_pred = modelo.predict(X_test)\n",
        "\n",
        "# Avaliando\n",
        "print(\"Acurácia:\", accuracy_score(y_test, y_pred))\n",
        "print(\"Matriz de confusão:\\n\", confusion_matrix(y_test, y_pred))\n"
      ],
      "metadata": {
        "colab": {
          "base_uri": "https://localhost:8080/"
        },
        "id": "tcrVUndLbKRp",
        "outputId": "faf311a3-ee72-4790-ec8c-5470b4f07d8c"
      },
      "execution_count": null,
      "outputs": [
        {
          "output_type": "stream",
          "name": "stdout",
          "text": [
            "Acurácia: 0.5\n",
            "Matriz de confusão:\n",
            " [[0 1]\n",
            " [0 1]]\n"
          ]
        },
        {
          "output_type": "stream",
          "name": "stderr",
          "text": [
            "/usr/local/lib/python3.11/dist-packages/sklearn/linear_model/_logistic.py:465: ConvergenceWarning: lbfgs failed to converge (status=1):\n",
            "STOP: TOTAL NO. OF ITERATIONS REACHED LIMIT.\n",
            "\n",
            "Increase the number of iterations (max_iter) or scale the data as shown in:\n",
            "    https://scikit-learn.org/stable/modules/preprocessing.html\n",
            "Please also refer to the documentation for alternative solver options:\n",
            "    https://scikit-learn.org/stable/modules/linear_model.html#logistic-regression\n",
            "  n_iter_i = _check_optimize_result(\n"
          ]
        }
      ]
    },
    {
      "cell_type": "markdown",
      "source": [
        "# Agrupamento\n"
      ],
      "metadata": {
        "id": "FBDAcaBPbuDL"
      }
    },
    {
      "cell_type": "code",
      "source": [
        "import pandas as pd\n",
        "import matplotlib.pyplot as plt\n",
        "from sklearn.cluster import KMeans\n",
        "\n",
        "# Simulando um dataset de clientes\n",
        "dados = {\n",
        "    'idade': [23, 25, 31, 35, 45, 52, 46, 38, 29, 33],\n",
        "    'renda': [2000, 2500, 3000, 4000, 6000, 7500, 5800, 4800, 2700, 3500]\n",
        "}\n",
        "\n",
        "df = pd.DataFrame(dados)\n",
        "\n",
        "# Treinando o modelo KMeans com 2 clusters\n",
        "modelo = KMeans(n_clusters=2, random_state=42)\n",
        "df['grupo'] = modelo.fit_predict(df[['idade', 'renda']])\n",
        "\n",
        "# Visualizando\n",
        "plt.figure(figsize=(8,6))\n",
        "cores = ['red', 'blue']\n",
        "for grupo in df['grupo'].unique():\n",
        "    grupo_dados = df[df['grupo'] == grupo]\n",
        "    plt.scatter(grupo_dados['idade'], grupo_dados['renda'],\n",
        "                label=f'Grupo {grupo}', color=cores[grupo], s=100)\n",
        "\n",
        "# Centro dos clusters\n",
        "centros = modelo.cluster_centers_\n",
        "plt.scatter(centros[:,0], centros[:,1], s=300, c='black', marker='X', label='Centros')\n",
        "\n",
        "plt.xlabel(\"Idade\")\n",
        "plt.ylabel(\"Renda\")\n",
        "plt.title(\"Agrupamento de Clientes\")\n",
        "plt.legend()\n",
        "plt.grid(True)\n",
        "plt.show()\n"
      ],
      "metadata": {
        "colab": {
          "base_uri": "https://localhost:8080/",
          "height": 564
        },
        "id": "saX8Kplebv7T",
        "outputId": "67c1425d-7cb5-4024-a4bb-51df713c38e5"
      },
      "execution_count": null,
      "outputs": [
        {
          "output_type": "display_data",
          "data": {
            "text/plain": [
              "<Figure size 800x600 with 1 Axes>"
            ],
            "image/png": "[encoded data removed]"
          },
          "metadata": {}
        }
      ]
    },
    {
      "cell_type": "markdown",
      "source": [
        "#Gráfico 3D"
      ],
      "metadata": {
        "id": "UlrYd9y3ilIr"
      }
    },
    {
      "cell_type": "code",
      "source": [
        "import pandas as pd\n",
        "import matplotlib.pyplot as plt\n",
        "from mpl_toolkits.mplot3d import Axes3D\n",
        "from sklearn.cluster import KMeans\n",
        "\n",
        "# Dados simulados com 3 variáveis\n",
        "dados = {\n",
        "    'idade': [23, 25, 31, 35, 45, 52, 46, 38, 29, 33],\n",
        "    'renda': [2000, 2500, 3000, 4000, 6000, 7500, 5800, 4800, 2700, 3500],\n",
        "    'gastos': [500, 600, 1200, 1000, 2000, 2500, 2200, 1800, 900, 1100]\n",
        "}\n",
        "\n",
        "df = pd.DataFrame(dados)\n",
        "\n",
        "# Modelo com 2 clusters\n",
        "modelo = KMeans(n_clusters=2, random_state=42)\n",
        "df['grupo'] = modelo.fit_predict(df[['idade', 'renda', 'gastos']])\n",
        "\n",
        "# Gráfico 3D\n",
        "fig = plt.figure(figsize=(10, 7))\n",
        "ax = fig.add_subplot(111, projection='3d')\n",
        "\n",
        "cores = ['red', 'blue']\n",
        "for grupo in df['grupo'].unique():\n",
        "    grupo_dados = df[df['grupo'] == grupo]\n",
        "    ax.scatter(grupo_dados['idade'], grupo_dados['renda'], grupo_dados['gastos'],\n",
        "               label=f'Grupo {grupo}', color=cores[grupo], s=100)\n",
        "\n",
        "# Centros dos clusters\n",
        "centros = modelo.cluster_centers_\n",
        "ax.scatter(centros[:,0], centros[:,1], centros[:,2], s=300, c='black', marker='X', label='Centros')\n",
        "\n",
        "ax.set_xlabel(\"Idade\")\n",
        "ax.set_ylabel(\"Renda\")\n",
        "ax.set_zlabel(\"Gastos\")\n",
        "ax.set_title(\"Agrupamento de Clientes - Gráfico 3D\")\n",
        "ax.legend()\n",
        "plt.show()\n"
      ],
      "metadata": {
        "colab": {
          "base_uri": "https://localhost:8080/",
          "height": 598
        },
        "id": "vjAwBSFGikpF",
        "outputId": "137bd6e1-d267-4adb-be6a-e6957f6c232e"
      },
      "execution_count": 1,
      "outputs": [
        {
          "output_type": "display_data",
          "data": {
            "text/plain": [
              "<Figure size 1000x700 with 1 Axes>"
            ],
            "image/png": "[encoded data removed]"
          },
          "metadata": {}
        }
      ]
    },
    {
      "cell_type": "markdown",
      "source": [
        "# Gráfico de Pizza"
      ],
      "metadata": {
        "id": "ACBgbMaJjTrH"
      }
    },
    {
      "cell_type": "code",
      "source": [
        "import pandas as pd\n",
        "import matplotlib.pyplot as plt\n",
        "from sklearn.cluster import KMeans\n",
        "\n",
        "# Dados (com idade, renda e gastos)\n",
        "dados = {\n",
        "    'idade': [23, 25, 31, 35, 45, 52, 46, 38, 29, 33],\n",
        "    'renda': [2000, 2500, 3000, 4000, 6000, 7500, 5800, 4800, 2700, 3500],\n",
        "    'gastos': [500, 600, 1200, 1000, 2000, 2500, 2200, 1800, 900, 1100]\n",
        "}\n",
        "\n",
        "df = pd.DataFrame(dados)\n",
        "\n",
        "# Modelo KMeans com 2 grupos\n",
        "modelo = KMeans(n_clusters=2, random_state=42)\n",
        "df['grupo'] = modelo.fit_predict(df[['idade', 'renda', 'gastos']])\n",
        "\n",
        "# Contar quantos clientes em cada grupo\n",
        "contagem_grupos = df['grupo'].value_counts().sort_index()\n",
        "\n",
        "# Gráfico de Pizza\n",
        "plt.figure(figsize=(6, 6))\n",
        "plt.pie(contagem_grupos, labels=[f'Grupo {i}' for i in contagem_grupos.index],\n",
        "        autopct='%1.1f%%', colors=['red', 'blue'], startangle=140)\n",
        "plt.title('Distribuição de Clientes por Grupo')\n",
        "plt.axis('equal')  # Deixa o gráfico em formato de círculo\n",
        "plt.show()\n"
      ],
      "metadata": {
        "colab": {
          "base_uri": "https://localhost:8080/",
          "height": 521
        },
        "id": "2BTUViyVjWjM",
        "outputId": "e6d68d6d-b0db-4b1f-a987-f7842c46b159"
      },
      "execution_count": 2,
      "outputs": [
        {
          "output_type": "display_data",
          "data": {
            "text/plain": [
              "<Figure size 600x600 with 1 Axes>"
            ],
            "image/png": "[encoded data removed]"
          },
          "metadata": {}
        }
      ]
    },
    {
      "cell_type": "markdown",
      "source": [
        "# Gráfico em Barra"
      ],
      "metadata": {
        "id": "PQcBTvQUjuZi"
      }
    },
    {
      "cell_type": "code",
      "source": [
        "import pandas as pd\n",
        "import matplotlib.pyplot as plt\n",
        "from sklearn.cluster import KMeans\n",
        "\n",
        "# Dados dos clientes\n",
        "dados = {\n",
        "    'idade': [23, 25, 31, 35, 45, 52, 46, 38, 29, 33],\n",
        "    'renda': [2000, 2500, 3000, 4000, 6000, 7500, 5800, 4800, 2700, 3500],\n",
        "    'gastos': [500, 600, 1200, 1000, 2000, 2500, 2200, 1800, 900, 1100]\n",
        "}\n",
        "\n",
        "df = pd.DataFrame(dados)\n",
        "\n",
        "# Modelo KMeans com 2 clusters\n",
        "modelo = KMeans(n_clusters=2, random_state=42)\n",
        "df['grupo'] = modelo.fit_predict(df[['idade', 'renda', 'gastos']])\n",
        "\n",
        "# Cálculo das médias por grupo\n",
        "medias = df.groupby('grupo')[['renda', 'gastos']].mean()\n",
        "\n",
        "# Gráfico de barras\n",
        "plt.figure(figsize=(8, 6))\n",
        "bar_width = 0.35\n",
        "index = range(len(medias))\n",
        "\n",
        "# Barras de renda\n",
        "plt.bar(index, medias['renda'], bar_width, label='Renda Média', color='skyblue')\n",
        "\n",
        "# Barras de gastos ao lado\n",
        "plt.bar([i + bar_width for i in index], medias['gastos'], bar_width, label='Gastos Médios', color='orange')\n",
        "\n",
        "# Configurações do gráfico\n",
        "plt.xlabel('Grupo')\n",
        "plt.ylabel('Valor (R$)')\n",
        "plt.title('Renda e Gastos Médios por Grupo')\n",
        "plt.xticks([i + bar_width / 2 for i in index], [f'Grupo {i}' for i in medias.index])\n",
        "plt.legend()\n",
        "plt.grid(axis='y', linestyle='--', alpha=0.7)\n",
        "plt.tight_layout()\n",
        "plt.show()\n"
      ],
      "metadata": {
        "colab": {
          "base_uri": "https://localhost:8080/",
          "height": 607
        },
        "id": "Q9bb7bJpj0Dj",
        "outputId": "adeab0b9-6c53-475d-c812-89b4c8340c8a"
      },
      "execution_count": 3,
      "outputs": [
        {
          "output_type": "display_data",
          "data": {
            "text/plain": [
              "<Figure size 800x600 with 1 Axes>"
            ],
            "image/png": "[encoded data removed]"
          },
          "metadata": {}
        }
      ]
    }
  ]
}