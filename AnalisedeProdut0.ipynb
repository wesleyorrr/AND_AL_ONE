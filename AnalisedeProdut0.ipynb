{
  "nbformat": 4,
  "nbformat_minor": 0,
  "metadata": {
    "colab": {
      "provenance": [],
      "toc_visible": true,
      "authorship_tag": "ABX9TyM9D6bNc/NnObX++8YV/n6U",
      "include_colab_link": true
    },
    "kernelspec": {
      "name": "python3",
      "display_name": "Python 3"
    },
    "language_info": {
      "name": "python"
    }
  },
  "cells": [
    {
      "cell_type": "markdown",
      "metadata": {
        "id": "view-in-github",
        "colab_type": "text"
      },
      "source": [
        "<a href=\"https://colab.research.google.com/github/wesleyorrr/AND_AL_ONE/blob/main/AnalisedeProdut0.ipynb\" target=\"_parent\"><img src=\"https://colab.research.google.com/assets/colab-badge.svg\" alt=\"Open In Colab\"/></a>"
      ]
    },
    {
      "cell_type": "code",
      "execution_count": null,
      "metadata": {
        "id": "BXTBrbh99qaJ"
      },
      "outputs": [],
      "source": []
    },
    {
      "cell_type": "markdown",
      "source": [
        "negrito# Analise de Produtos\n"
      ],
      "metadata": {
        "id": "HL078WK09sjq"
      }
    },
    {
      "cell_type": "code",
      "source": [
        "import pandas as pd\n",
        "\n",
        "# 1. Ler um arquivo CSV\n",
        "# df = pd.read_csv('arquivo.csv')  # Exemplo\n",
        "\n",
        "# Exemplo de DataFrame\n",
        "dados = {\n",
        "    'produto': ['A', 'B', 'C', 'A', 'B'],\n",
        "    'categoria': ['Eletronico', 'Roupas', 'Roupas', 'Eletronico', 'Roupas'],\n",
        "    'preco': [100, 50, 70, 120, 40],\n",
        "    'quantidade': [2, 1, 3, 1, 2]\n",
        "}\n",
        "\n",
        "df = pd.DataFrame(dados)\n",
        "\n",
        "# 2. Criar coluna de receita\n",
        "df['receita'] = df['preco'] * df['quantidade']\n",
        "\n",
        "# 3. Receita total\n",
        "print(df['receita'].sum())\n",
        "\n",
        "# 4. Receita por categoria\n",
        "print(df.groupby('categoria')['receita'].sum().sort_values(ascending=False))"
      ],
      "metadata": {
        "id": "vZNY0xE-94xP",
        "colab": {
          "base_uri": "https://localhost:8080/"
        },
        "outputId": "e86faa14-f532-49bd-d607-09258da8f933"
      },
      "execution_count": null,
      "outputs": [
        {
          "output_type": "stream",
          "name": "stdout",
          "text": [
            "660\n",
            "categoria\n",
            "Roupas        340\n",
            "Eletronico    320\n",
            "Name: receita, dtype: int64\n"
          ]
        }
      ]
    }
  ]
}